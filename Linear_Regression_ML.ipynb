{
  "nbformat": 4,
  "nbformat_minor": 0,
  "metadata": {
    "colab": {
      "name": "Linear_Regression_ML",
      "provenance": [],
      "authorship_tag": "ABX9TyPF2egrg6gTlwG/+5ijLGu9"
    },
    "kernelspec": {
      "name": "python3",
      "display_name": "Python 3"
    },
    "language_info": {
      "name": "python"
    }
  },
  "cells": [
    {
      "cell_type": "code",
      "metadata": {
        "id": "_wKNejeLCFt1"
      },
      "source": [
        "#Simple Machine Learning Python program"
      ],
      "execution_count": 70,
      "outputs": []
    },
    {
      "cell_type": "code",
      "metadata": {
        "id": "mrAtxOoWCE5T"
      },
      "source": [
        "#Import dependencies\n",
        "from sklearn.linear_model import LinearRegression\n",
        "import random"
      ],
      "execution_count": 71,
      "outputs": []
    },
    {
      "cell_type": "code",
      "metadata": {
        "id": "P5dEHijcCBt_"
      },
      "source": [
        "#Create two empty lists\n",
        "feature_set=[]\n",
        "target_set=[]"
      ],
      "execution_count": 72,
      "outputs": []
    },
    {
      "cell_type": "code",
      "metadata": {
        "id": "qKVdfL4WCXOe"
      },
      "source": [
        "#get the number of rows for the data set\n",
        "number_of_rows=200\n",
        "#Limit the possible values in the data set\n",
        "random_number_limit=2000"
      ],
      "execution_count": 73,
      "outputs": []
    },
    {
      "cell_type": "code",
      "metadata": {
        "id": "dLJYes50Cyiw"
      },
      "source": [
        "#Create the training data set\n",
        "\n",
        "#Create the feature data set\n",
        "for i in range (0, number_of_rows):\n",
        "  x=random.randint(0, random_number_limit)\n",
        "  y=random.randint(0, random_number_limit)\n",
        "  z=random.randint(0, random_number_limit)\n",
        "\n",
        "  #Create a linear function for the target data set\n",
        "  function=(10*x)+(2*y)+(3*z)\n",
        "\n",
        "  #Append the data to the list\n",
        "  feature_set.append([x,y,z])\n",
        "  target_set.append (function)\n",
        "  #print(feature_set)\n",
        "  #print (target_set)"
      ],
      "execution_count": 74,
      "outputs": []
    },
    {
      "cell_type": "code",
      "metadata": {
        "colab": {
          "base_uri": "https://localhost:8080/"
        },
        "id": "52MUAzXZFY8M",
        "outputId": "9c00fb69-64ad-456d-947e-f418ce25ba6e"
      },
      "source": [
        "#Create the linear regression model\n",
        "model=LinearRegression()\n",
        "#Train the model\n",
        "model.fit(feature_set,target_set)"
      ],
      "execution_count": 75,
      "outputs": [
        {
          "output_type": "execute_result",
          "data": {
            "text/plain": [
              "LinearRegression(copy_X=True, fit_intercept=True, n_jobs=None, normalize=False)"
            ]
          },
          "metadata": {},
          "execution_count": 75
        }
      ]
    },
    {
      "cell_type": "code",
      "metadata": {
        "colab": {
          "base_uri": "https://localhost:8080/"
        },
        "id": "aRhvT8EaHsq6",
        "outputId": "d994ab5d-4fc7-4862-fd0d-6d2768fde0eb"
      },
      "source": [
        "#Create test data set (to see how accurate the model is)\n",
        "test_set=[[8,10,0]] #expected output is (10*x)+(2*y)+(3*z) = (10*8)+(2*11)+(3*0) = 100\n",
        "prediction = model.predict(test_set)\n",
        "print (\"Result=\",prediction,\"Coefficients are\",model.coef_)"
      ],
      "execution_count": 76,
      "outputs": [
        {
          "output_type": "stream",
          "name": "stdout",
          "text": [
            "Result= [100.] Coefficients are [10.  2.  3.]\n"
          ]
        }
      ]
    }
  ]
}